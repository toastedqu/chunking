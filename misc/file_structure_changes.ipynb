{
 "cells": [
  {
   "cell_type": "code",
   "execution_count": 1,
   "metadata": {},
   "outputs": [],
   "source": [
    "import os\n",
    "import numpy as np\n",
    "from utils import *"
   ]
  },
  {
   "cell_type": "code",
   "execution_count": 4,
   "metadata": {},
   "outputs": [],
   "source": [
    "# # docs\n",
    "# for dataset in [\"conditionalqa\", \"cuad\", \"qasper\", \"techqa\"]:\n",
    "#     docs = read_json(f\"datasets/{dataset}/docs.json\")\n",
    "#     new_docs = {}\n",
    "#     for doc_id, doc in enumerate(docs):\n",
    "#         new_docs[doc_id] = doc\n",
    "#     write_json(new_docs, f\"datasets/{dataset}/docs_new.json\")\n",
    "#     os.remove(f\"datasets/{dataset}/docs.json\")\n",
    "#     os.rename(f\"datasets/{dataset}/docs_new.json\", f\"datasets/{dataset}/docs.json\")"
   ]
  },
  {
   "cell_type": "code",
   "execution_count": 2,
   "metadata": {},
   "outputs": [],
   "source": [
    "# queries embeddings\n",
    "for dataset in [\"conditionalqa\", \"cuad\", \"qasper\", \"techqa\"]:\n",
    "    queries_embeddings = np.load(f\"embeddings/{dataset}/queries.npy\")\n",
    "    queries = read_json(f\"datasets/{dataset}/queries.json\")\n",
    "    new_queries_embeddings = {}\n",
    "    for query_id, query in enumerate(queries):\n",
    "        new_queries_embeddings[query_id] = queries_embeddings[query_id]\n",
    "    write_pickle(new_queries_embeddings, f\"embeddings/{dataset}/queries_embeddings.pkl\")\n",
    "    os.remove(f\"embeddings/{dataset}/queries.npy\")"
   ]
  },
  {
   "cell_type": "code",
   "execution_count": 3,
   "metadata": {},
   "outputs": [],
   "source": [
    "# docs embeddings\n",
    "for dataset in [\"conditionalqa\", \"cuad\", \"qasper\", \"techqa\"]:\n",
    "    docs_embeddings = {}\n",
    "    for filename in os.listdir(f\"embeddings/{dataset}\"):\n",
    "        if \"doc_\" in filename:\n",
    "            doc_id = int(filename.split(\"_\")[1].split(\".\")[0])\n",
    "            docs_embeddings[doc_id] = np.load(f\"embeddings/{dataset}/{filename}\")\n",
    "            os.remove(f\"embeddings/{dataset}/{filename}\")\n",
    "    write_pickle(docs_embeddings, f\"embeddings/{dataset}/docs_embeddings.pkl\")"
   ]
  },
  {
   "cell_type": "code",
   "execution_count": null,
   "metadata": {},
   "outputs": [],
   "source": []
  }
 ],
 "metadata": {
  "kernelspec": {
   "display_name": "sc",
   "language": "python",
   "name": "python3"
  },
  "language_info": {
   "codemirror_mode": {
    "name": "ipython",
    "version": 3
   },
   "file_extension": ".py",
   "mimetype": "text/x-python",
   "name": "python",
   "nbconvert_exporter": "python",
   "pygments_lexer": "ipython3",
   "version": "3.10.14"
  }
 },
 "nbformat": 4,
 "nbformat_minor": 2
}
