{
 "cells": [
  {
   "cell_type": "markdown",
   "metadata": {},
   "source": [
    "# Issue Inspection - Linkage"
   ]
  },
  {
   "cell_type": "markdown",
   "metadata": {},
   "source": [
    "## Prep"
   ]
  },
  {
   "cell_type": "code",
   "execution_count": 34,
   "metadata": {},
   "outputs": [],
   "source": [
    "import yaml\n",
    "import spacy\n",
    "import numpy as np\n",
    "import pandas as pd\n",
    "from typing import *\n",
    "from functools import partial\n",
    "from sentence_transformers import SentenceTransformer\n",
    "from scipy.spatial.distance import pdist, squareform\n",
    "from scipy.cluster.hierarchy import linkage, fcluster\n",
    "\n",
    "cfg = yaml.load(open(\"config.yaml\", \"r\"), Loader=yaml.FullLoader)\n",
    "model = SentenceTransformer(\"multi-qa-mpnet-base-cos-v1\")\n",
    "nlp = spacy.load(\"en_core_web_sm\")\n",
    "\n",
    "def __dist__(A: np.ndarray, B: np.ndarray, n_segments: int, lamda: float = 0.5) -> float:\n",
    "    if lamda > 0:                                               # include position\n",
    "        A_pos, B_pos = int(A[0]), int(B[0])\n",
    "        pos_dist = abs(A_pos - B_pos)                           # integer [1, n_segments]\n",
    "        pos_dist_norm = pos_dist / n_segments                   # float [0, 1]\n",
    "        A_vec, B_vec = A[1:], B[1:]\n",
    "    else:                                                       # exclude position\n",
    "        pos_dist_norm = 0\n",
    "        A_vec, B_vec = A, B\n",
    "    cos_sim = np.dot(A_vec, B_vec) / (np.linalg.norm(A_vec) * np.linalg.norm(B_vec))\n",
    "    cos_dist = 1 - cos_sim                                      # float [0, 2]\n",
    "    cos_dist_norm = cos_dist / 2                                # float [0, 1]\n",
    "    return lamda * pos_dist_norm + (1-lamda) * cos_dist_norm    # float [0, 1]\n",
    "\n",
    "def split_sentences(doc: str):\n",
    "    return [text.text.strip() for segment in doc.split(\"\\n\") for text in nlp(segment).sents]\n",
    "\n",
    "def group_by_cluster(texts, labels):\n",
    "    df = pd.DataFrame({\"label\": labels, \"texts\": texts})\n",
    "    df = df.groupby(\"label\")[\"texts\"].apply(lambda x: '\\n'.join(x)).reset_index()\n",
    "    return df[\"texts\"].tolist(), df[\"label\"].tolist()\n",
    "\n",
    "def log_clusters(texts, ids):\n",
    "    for text, id in zip(texts, ids):\n",
    "        cluster_id = id.split('|')[1]\n",
    "        print(f'Cluster ID: {cluster_id}')\n",
    "        print(f'Text: {text}')\n",
    "        print()"
   ]
  },
  {
   "cell_type": "markdown",
   "metadata": {},
   "source": [
    "### k-split"
   ]
  },
  {
   "cell_type": "markdown",
   "metadata": {},
   "source": [
    "Given a document, k-split clusters the sentences into a fixed number of semantically similar chunks following single-linkage clustering:\n",
    "1. Split the document into sentences.\n",
    "2. Get sentence embeddings.\n",
    "3. Calculate distance matrix, where each entry is the distance between the row-index sentence embedding and the column-index sentence embedding.\n",
    "4. Obtain linkage matrix via `scipy.cluster.hierarchy.linkage`, which is a $(n-1)\\times4$ array.\n",
    "    - Each row represents a linkage between 2 clusters.\n",
    "    - The first 2 columns represents the 2 clusters being linked.\n",
    "    - The third column represents the minimal distance between the 2 clusters.\n",
    "    - The fourth column represents the number of samples in the combined cluster.\n",
    "    - All rows are sorted in the ascending order of distance. The formation of clusters follow the same order as the rows.\n",
    "        - For example, given an array of data points [1,2,5,7],\n",
    "            1. 1 and 2 are linked first.\n",
    "            2. 5 and 7 are linked second.\n",
    "            3. 2 and 5 are linked last.\n",
    "5. Form clusters based on the order specified by the linkage matrix till the desired number of clusters is reached."
   ]
  },
  {
   "cell_type": "code",
   "execution_count": 35,
   "metadata": {},
   "outputs": [],
   "source": [
    "def single_linkage_clustering_k_split(data: np.ndarray, lamda: float = 0., n_clusters: int = 10):\n",
    "    metric = partial(__dist__, n_segments=len(data), lamda=lamda)\n",
    "    distance_matrix = np.abs(pdist(data, metric=metric))\n",
    "    linkage_matrix = linkage(distance_matrix, method='single')\n",
    "    cluster_labels = fcluster(linkage_matrix, t=n_clusters, criterion='maxclust')\n",
    "    return cluster_labels\n",
    "\n",
    "def cluster_chunker_k_split(doc: str, doc_id: str, lamda: float = 0., n_clusters: int = 10):\n",
    "    sents = split_sentences(doc)\n",
    "    embs = model.encode(sents)\n",
    "    if lamda > 0: embs = np.insert(embs, 0, range(len(embs)), axis=1)     # insert position in front of semantic embeddings\n",
    "    labels = single_linkage_clustering_k_split(embs, n_clusters=n_clusters)\n",
    "    texts, ids = group_by_cluster(sents, labels)\n",
    "    ids = [\"{}|{}\".format(doc_id, cluster_id) for cluster_id in ids]\n",
    "    return texts, ids"
   ]
  },
  {
   "cell_type": "markdown",
   "metadata": {},
   "source": [
    "### k-preserve"
   ]
  },
  {
   "cell_type": "markdown",
   "metadata": {},
   "source": [
    "Given a document, k-preserve clusters the sentences into semantically similar chunks, where each clusters must have a minimal number of samples:\n",
    "1. Split the document into sentences.\n",
    "2. Get sentence embeddings.\n",
    "3. Calculate distance matrix, where each entry is the distance between the row-index sentence embedding and the column-index sentence embedding.\n",
    "4. Obtain linkage matrix via `scipy.cluster.hierarchy.linkage`, which is a $(n-1)\\times4$ array.\n",
    "    - Each row represents a linkage between 2 clusters.\n",
    "    - The first 2 columns represents the 2 clusters being linked.\n",
    "    - The third column represents the minimal distance between the 2 clusters.\n",
    "    - The fourth column represents the number of samples in the combined cluster.\n",
    "    - All rows are sorted in the ascending order of distance. The formation of clusters follow the same order as the rows.\n",
    "        - For example, given an array of data points [1,2,5,7],\n",
    "            1. 1 and 2 are linked first.\n",
    "            2. 5 and 7 are linked second.\n",
    "            3. 2 and 5 are linked last.\n",
    "5. Form clusters based on the order specified by the linkage matrix till the desired number of clusters is reached.\n",
    "    - Here, the desired number of clusters is initialized as the number of samples divided by the minimal number of samples per cluster.\n",
    "6. Iterate till every cluster has the required minimal number of samples:\n",
    "    1. Find the small clusters with less than the minimum threshold.\n",
    "    2. Find the closest cluster for each small cluster to merge with.\n",
    "    3. Relabel the merged clusters.\n",
    "    4. Break when there's no more small cluster."
   ]
  },
  {
   "cell_type": "code",
   "execution_count": 36,
   "metadata": {},
   "outputs": [],
   "source": [
    "def single_linkage_clustering_k_preserve(data: np.ndarray, lamda: float = 0., min_samples: Optional[int] = None):\n",
    "    if min_samples is None:\n",
    "        min_samples = len(data) // 10 + 1\n",
    "    if min_samples > len(data)/2:\n",
    "        min_samples = len(data) // 10 + 1\n",
    "    n_clusters = len(data)//min_samples      # k-preserve initializes with total number of segments as n_clusters\n",
    "\n",
    "    # perform single-linkage clustering with n_clusters first\n",
    "    metric = partial(__dist__, n_segments=len(data), lamda=lamda)\n",
    "    distance_matrix = np.abs(pdist(data, metric=metric))\n",
    "    linkage_matrix = linkage(distance_matrix, method='single')\n",
    "    cluster_labels = fcluster(linkage_matrix, t=n_clusters, criterion='maxclust')\n",
    "\n",
    "    while True:\n",
    "        # find the small clusters with less than min_samples\n",
    "        unique_labels, counts = np.unique(cluster_labels, return_counts=True)\n",
    "        small_clusters = unique_labels[counts < min_samples]\n",
    "        small_counts = counts[counts < min_samples]\n",
    "\n",
    "        # if no small clusters, break\n",
    "        if len(small_clusters) == 0:\n",
    "            break\n",
    "\n",
    "        # find the smallest cluster to merge\n",
    "        smallest_cluster = small_clusters[np.argmin(small_counts)]\n",
    "        smallest_indices = np.where(cluster_labels == smallest_cluster)[0]\n",
    "\n",
    "        # find the closest cluster to merge with\n",
    "        min_distance = np.inf\n",
    "        closest_cluster = None\n",
    "        distance_square = squareform(distance_matrix)\n",
    "        for i in smallest_indices:\n",
    "            distances = distance_square[i]\n",
    "            for lbl in unique_labels:\n",
    "                if lbl != smallest_cluster:\n",
    "                    cluster_indices = np.where(cluster_labels == lbl)[0]\n",
    "                    mean_distance = np.mean(distances[cluster_indices])\n",
    "                    if mean_distance < min_distance:\n",
    "                        min_distance = mean_distance\n",
    "                        closest_cluster = lbl\n",
    "\n",
    "        # merge the smallest cluster with the closest cluster\n",
    "        cluster_labels[cluster_labels == smallest_cluster] = closest_cluster\n",
    "\n",
    "    # relabel clusters consecutively\n",
    "    unique_labels = np.unique(cluster_labels)\n",
    "    new_labels = np.zeros_like(cluster_labels)\n",
    "    for new_label, unique_label in enumerate(unique_labels, start=1):\n",
    "        new_labels[cluster_labels == unique_label] = new_label\n",
    "\n",
    "    return new_labels\n",
    "\n",
    "def cluster_chunker_k_preserve(doc: str, doc_id: str, lamda: float = 0., min_samples: Optional[int] = None):\n",
    "    sents = split_sentences(doc)\n",
    "    embs = model.encode(sents)\n",
    "    if lamda > 0: embs = np.insert(embs, 0, range(len(embs)), axis=1)     # insert position in front of semantic embeddings\n",
    "    labels = single_linkage_clustering_k_preserve(embs, lamda=lamda, min_samples=min_samples)\n",
    "    texts, ids = group_by_cluster(sents, labels)\n",
    "    ids = [\"{}|{}\".format(doc_id, cluster_id) for cluster_id in ids]\n",
    "    return texts, ids"
   ]
  },
  {
   "cell_type": "markdown",
   "metadata": {},
   "source": [
    "### constrained single-linkage clustering"
   ]
  },
  {
   "cell_type": "markdown",
   "metadata": {},
   "source": [
    "Given a document, constrained version clusters the sentences into semantically similar chunks, where each clusters cannot exceed the maximal number of samples requirement:\n",
    "1. Split the document into sentences.\n",
    "2. Get sentence embeddings.\n",
    "3. Calculate distance matrix, where each entry is the distance between the row-index sentence embedding and the column-index sentence embedding.\n",
    "4. Iterate through the distance matrix to form clusters till all distances are checked:\n",
    "    1. Find the pair of samples with minimal distance.\n",
    "    2. Find the clusters each one belongs to.\n",
    "    3. Check if the combined cluster would exceed the maximum sample size threshold.\n",
    "        - If yes, ignore this linkage.\n",
    "        - If no, merge.\n",
    "    4. Relabel the merged clusters.\n",
    "    5. Break after all distances are checked."
   ]
  },
  {
   "cell_type": "code",
   "execution_count": 37,
   "metadata": {},
   "outputs": [],
   "source": [
    "from retriever import get_encoder\n",
    "\n",
    "def get_dist_mat(data: np.ndarray, lamda: float = 0.5) -> np.ndarray:\n",
    "    return np.triu(squareform(np.abs(pdist(data, metric=partial(__dist__, n_segments=len(data), lamda=lamda)))))\n",
    "\n",
    "def get_curr_min_idx(arr: np.ndarray):\n",
    "    return np.argmin(arr)//len(arr), np.argmin(arr)%len(arr)\n",
    "\n",
    "def single_linkage_clustering(embs: np.ndarray, lamda: float = 0.5, max_samples_per_cluster: Optional[int] = None):\n",
    "    # get distance matrix\n",
    "    dist_mat = get_dist_mat(embs, lamda=lamda)\n",
    "    dist_mat[dist_mat == 0] = float('inf')  # set diagonal to infinity so that the minimum value can be iterated\n",
    "\n",
    "    # set max_samples_per_cluster\n",
    "    if not max_samples_per_cluster: max_samples_per_cluster = len(embs) // 10\n",
    "\n",
    "    # initialize clusters and parents\n",
    "    clusters = {i: [i] for i in range(len(embs))}\n",
    "    parents = {i: i for i in range(len(embs))}\n",
    "\n",
    "    # iterate through the distance matrix from min to max for single linkage clustering\n",
    "    while dist_mat.min() < float('inf'):\n",
    "        row, col = get_curr_min_idx(dist_mat)\n",
    "        parent_row, parent_col = parents[row], parents[col]\n",
    "        if parent_row != parent_col and len(clusters[parent_row]) + len(clusters[parent_col]) <= max_samples_per_cluster:\n",
    "            clusters[parent_row].extend(clusters[parent_col])\n",
    "            for sample in clusters[parent_col]:\n",
    "                parents[sample] = parent_row\n",
    "            del clusters[parent_col]\n",
    "        dist_mat[row, col] = float('inf')\n",
    "\n",
    "    # convert parents to cluster labels\n",
    "    parent_to_cluster_label = {}\n",
    "    temp_lbl = 0\n",
    "    for parent in parents.values():\n",
    "        if parent not in parent_to_cluster_label:\n",
    "            parent_to_cluster_label[parent] = temp_lbl\n",
    "            temp_lbl += 1\n",
    "\n",
    "    # get cluster labels for all samples\n",
    "    cluster_labels = [parent_to_cluster_label[parents[idx]] for idx in range(len(embs))]\n",
    "\n",
    "    return cluster_labels\n",
    "\n",
    "def cluster_chunker(doc, doc_id, encoder = None, lamda: float = 0., max_samples_per_cluster: Optional[int] = None):\n",
    "    if not encoder: raise ValueError(\"Encoder is required for cluster_chunker\")\n",
    "    sents = split_sentences(doc)\n",
    "    embs = encoder.embed_documents(sents)\n",
    "    labels = single_linkage_clustering(embs, lamda=lamda, max_samples_per_cluster=max_samples_per_cluster)\n",
    "    texts, ids = group_by_cluster(sents, labels)\n",
    "    ids = [\"{}|{}\".format(doc_id, cluster_id) for cluster_id in ids]\n",
    "    return texts, ids"
   ]
  },
  {
   "cell_type": "markdown",
   "metadata": {},
   "source": [
    "## Example: Short document with clear semantic difference"
   ]
  },
  {
   "cell_type": "markdown",
   "metadata": {},
   "source": [
    "The first 3 sentences are about tasty food.\n",
    "\n",
    "The second 3 sentences are about computer science.\n",
    "\n",
    "The last 4 sentences are about psychology.\n",
    "\n",
    "We randomly mix them and see how it goes."
   ]
  },
  {
   "cell_type": "code",
   "execution_count": 38,
   "metadata": {},
   "outputs": [],
   "source": [
    "doc = [\n",
    "    \"The dish was incredibly flavorful and satisfying.\",\n",
    "    \"The meal had a rich, delightful taste.\",\n",
    "    \"The food was packed with delicious flavors.\",\n",
    "    \"The algorithm efficiently solves the problem.\",\n",
    "    \"The program runs with optimal performance.\",\n",
    "    \"The code executes with high efficiency.\",\n",
    "    \"Human behavior is influenced by various cognitive processes.\",\n",
    "    \"Mental processes play a key role in shaping actions.\",\n",
    "    \"Thoughts and emotions impact how people behave.\",\n",
    "    \"Behavior is closely linked to psychological factors.\",\n",
    "]\n",
    "\n",
    "import random\n",
    "random.seed(0)\n",
    "random.shuffle(doc)\n",
    "doc = ' '.join(doc)"
   ]
  },
  {
   "cell_type": "code",
   "execution_count": 39,
   "metadata": {},
   "outputs": [
    {
     "name": "stdout",
     "output_type": "stream",
     "text": [
      "K-split Chunker\n",
      "Cluster ID: 1\n",
      "Text: Mental processes play a key role in shaping actions.\n",
      "Thoughts and emotions impact how people behave.\n",
      "Behavior is closely linked to psychological factors.\n",
      "Human behavior is influenced by various cognitive processes.\n",
      "\n",
      "Cluster ID: 2\n",
      "Text: The meal had a rich, delightful taste.\n",
      "The food was packed with delicious flavors.\n",
      "The dish was incredibly flavorful and satisfying.\n",
      "\n",
      "Cluster ID: 3\n",
      "Text: The code executes with high efficiency.\n",
      "The algorithm efficiently solves the problem.\n",
      "The program runs with optimal performance.\n",
      "\n"
     ]
    }
   ],
   "source": [
    "texts, ids = cluster_chunker_k_split(doc, doc_id=\"doc0\", n_clusters=3)\n",
    "print(\"K-split Chunker\")\n",
    "log_clusters(texts, ids)"
   ]
  },
  {
   "cell_type": "code",
   "execution_count": 40,
   "metadata": {},
   "outputs": [
    {
     "name": "stdout",
     "output_type": "stream",
     "text": [
      "K-preserve Chunker\n",
      "Cluster ID: 1\n",
      "Text: Mental processes play a key role in shaping actions.\n",
      "Thoughts and emotions impact how people behave.\n",
      "Behavior is closely linked to psychological factors.\n",
      "Human behavior is influenced by various cognitive processes.\n",
      "\n",
      "Cluster ID: 2\n",
      "Text: The meal had a rich, delightful taste.\n",
      "The food was packed with delicious flavors.\n",
      "The dish was incredibly flavorful and satisfying.\n",
      "\n",
      "Cluster ID: 3\n",
      "Text: The code executes with high efficiency.\n",
      "The algorithm efficiently solves the problem.\n",
      "The program runs with optimal performance.\n",
      "\n"
     ]
    }
   ],
   "source": [
    "texts, ids = cluster_chunker_k_preserve(doc, doc_id=\"doc0\", min_samples=3)\n",
    "print(\"K-preserve Chunker\")\n",
    "log_clusters(texts, ids)"
   ]
  },
  {
   "cell_type": "code",
   "execution_count": 41,
   "metadata": {},
   "outputs": [
    {
     "name": "stdout",
     "output_type": "stream",
     "text": [
      "Constrained single-linkage Chunker\n",
      "Cluster ID: 0\n",
      "Text: Mental processes play a key role in shaping actions.\n",
      "Thoughts and emotions impact how people behave.\n",
      "Behavior is closely linked to psychological factors.\n",
      "Human behavior is influenced by various cognitive processes.\n",
      "\n",
      "Cluster ID: 1\n",
      "Text: The meal had a rich, delightful taste.\n",
      "The food was packed with delicious flavors.\n",
      "The dish was incredibly flavorful and satisfying.\n",
      "\n",
      "Cluster ID: 2\n",
      "Text: The code executes with high efficiency.\n",
      "The algorithm efficiently solves the problem.\n",
      "The program runs with optimal performance.\n",
      "\n"
     ]
    }
   ],
   "source": [
    "texts, ids = cluster_chunker(doc, doc_id=\"doc0\", encoder=get_encoder(\"huggingface\"), max_samples_per_cluster=4)\n",
    "print(\"Constrained single-linkage Chunker\")\n",
    "log_clusters(texts, ids)"
   ]
  },
  {
   "cell_type": "markdown",
   "metadata": {},
   "source": [
    "As shown above, there's no clear difference. All 3 clustering algorithms were able to distinguish between food, computer science, and psychology, because the sentences are semantically very different. The pattern is quite obvious.\n",
    "\n",
    "Let's take a look at the dendrogram for k-split. (I cannot get dendrogram for k-preserve or constrained single-linkage because they are written from scratch.)"
   ]
  },
  {
   "cell_type": "code",
   "execution_count": 42,
   "metadata": {},
   "outputs": [
    {
     "data": {
      "image/png": "[encoded data removed]",
      "text/plain": [
       "<Figure size 3200x1800 with 1 Axes>"
      ]
     },
     "metadata": {},
     "output_type": "display_data"
    }
   ],
   "source": [
    "from scipy.cluster.hierarchy import dendrogram\n",
    "import matplotlib.pyplot as plt\n",
    "\n",
    "sents = split_sentences(doc)\n",
    "embs = model.encode(sents)\n",
    "metric = partial(__dist__, n_segments=len(embs), lamda=0)\n",
    "distance_matrix = np.abs(pdist(embs, metric=metric))\n",
    "linkage_matrix = linkage(distance_matrix, method='single')\n",
    "dendrogram(linkage_matrix)\n",
    "plt.rcParams[\"figure.figsize\"] = (32, 18)\n",
    "plt.show()"
   ]
  },
  {
   "cell_type": "markdown",
   "metadata": {},
   "source": [
    "Although there seems to be no problem so far, the issue is going to be apparent in the next sample. Pay close attention to the blue linkage."
   ]
  },
  {
   "cell_type": "markdown",
   "metadata": {},
   "source": [
    "## Example: Short document with no clear semantic difference"
   ]
  },
  {
   "cell_type": "markdown",
   "metadata": {},
   "source": [
    "We ask ChatGPT to randomly generate a paragraph of 10 sentences on the fusion between food, computer science, and psychology.\n",
    "\n",
    "Let's see how it goes."
   ]
  },
  {
   "cell_type": "code",
   "execution_count": 43,
   "metadata": {},
   "outputs": [
    {
     "data": {
      "text/plain": [
       "10"
      ]
     },
     "execution_count": 43,
     "metadata": {},
     "output_type": "execute_result"
    }
   ],
   "source": [
    "doc = \"In the intricate world of human experience, the interplay between food, computer science, and psychology reveals fascinating insights into how we perceive and interact with our environment. Just as a carefully prepared meal satisfies our taste buds and nourishes our bodies, well-designed algorithms in computer science cater to the needs of efficiency and performance, ensuring that complex problems are solved with precision. The psychology behind our food choices, influenced by cognitive processes like memory and emotion, mirrors the way we approach problem-solving in computer science, where past experiences and emotional states can affect decision-making. Furthermore, the way we program machines to understand and predict human behavior through artificial intelligence draws a parallel to how our brains process and respond to sensory input, like the taste and aroma of food. This convergence of fields highlights the complexity of human cognition, where the satisfaction of a meal, the efficiency of a program, and the intricacies of mental processes all contribute to our understanding of the world and ourselves. Building on these connections, the relationship between these fields becomes even more profound when we consider the role of data in shaping our experiences. In computer science, data drives the development of algorithms that can predict preferences, much like how our psychological history and sensory memories guide our food choices. For example, machine learning models analyze vast amounts of data to recommend recipes based on individual tastes, effectively merging the computational with the culinary. Similarly, psychology helps us understand why certain foods provide comfort or evoke memories, offering insights into how data can be used to mimic these emotional responses in artificial systems. As we continue to explore these intersections, the potential for innovation grows—whether it's creating personalized nutrition plans based on psychological profiles or developing more intuitive AI systems that understand the nuances of human behavior.\"\n",
    "\n",
    "len(split_sentences(doc))"
   ]
  },
  {
   "cell_type": "code",
   "execution_count": 44,
   "metadata": {},
   "outputs": [
    {
     "name": "stdout",
     "output_type": "stream",
     "text": [
      "K-split Chunker\n",
      "Cluster ID: 1\n",
      "Text: In the intricate world of human experience, the interplay between food, computer science, and psychology reveals fascinating insights into how we perceive and interact with our environment.\n",
      "Just as a carefully prepared meal satisfies our taste buds and nourishes our bodies, well-designed algorithms in computer science cater to the needs of efficiency and performance, ensuring that complex problems are solved with precision.\n",
      "The psychology behind our food choices, influenced by cognitive processes like memory and emotion, mirrors the way we approach problem-solving in computer science, where past experiences and emotional states can affect decision-making.\n",
      "Furthermore, the way we program machines to understand and predict human behavior through artificial intelligence draws a parallel to how our brains process and respond to sensory input, like the taste and aroma of food.\n",
      "In computer science, data drives the development of algorithms that can predict preferences, much like how our psychological history and sensory memories guide our food choices.\n",
      "For example, machine learning models analyze vast amounts of data to recommend recipes based on individual tastes, effectively merging the computational with the culinary.\n",
      "Similarly, psychology helps us understand why certain foods provide comfort or evoke memories, offering insights into how data can be used to mimic these emotional responses in artificial systems.\n",
      "As we continue to explore these intersections, the potential for innovation grows—whether it's creating personalized nutrition plans based on psychological profiles or developing more intuitive AI systems that understand the nuances of human behavior.\n",
      "\n",
      "Cluster ID: 2\n",
      "Text: This convergence of fields highlights the complexity of human cognition, where the satisfaction of a meal, the efficiency of a program, and the intricacies of mental processes all contribute to our understanding of the world and ourselves.\n",
      "\n",
      "Cluster ID: 3\n",
      "Text: Building on these connections, the relationship between these fields becomes even more profound when we consider the role of data in shaping our experiences.\n",
      "\n"
     ]
    }
   ],
   "source": [
    "texts, ids = cluster_chunker_k_split(doc, doc_id=\"doc0\", n_clusters=3)\n",
    "print(\"K-split Chunker\")\n",
    "log_clusters(texts, ids)"
   ]
  },
  {
   "cell_type": "code",
   "execution_count": 45,
   "metadata": {},
   "outputs": [
    {
     "name": "stdout",
     "output_type": "stream",
     "text": [
      "K-preserve Chunker\n",
      "Cluster ID: 1\n",
      "Text: In the intricate world of human experience, the interplay between food, computer science, and psychology reveals fascinating insights into how we perceive and interact with our environment.\n",
      "Just as a carefully prepared meal satisfies our taste buds and nourishes our bodies, well-designed algorithms in computer science cater to the needs of efficiency and performance, ensuring that complex problems are solved with precision.\n",
      "The psychology behind our food choices, influenced by cognitive processes like memory and emotion, mirrors the way we approach problem-solving in computer science, where past experiences and emotional states can affect decision-making.\n",
      "Furthermore, the way we program machines to understand and predict human behavior through artificial intelligence draws a parallel to how our brains process and respond to sensory input, like the taste and aroma of food.\n",
      "This convergence of fields highlights the complexity of human cognition, where the satisfaction of a meal, the efficiency of a program, and the intricacies of mental processes all contribute to our understanding of the world and ourselves.\n",
      "Building on these connections, the relationship between these fields becomes even more profound when we consider the role of data in shaping our experiences.\n",
      "In computer science, data drives the development of algorithms that can predict preferences, much like how our psychological history and sensory memories guide our food choices.\n",
      "For example, machine learning models analyze vast amounts of data to recommend recipes based on individual tastes, effectively merging the computational with the culinary.\n",
      "Similarly, psychology helps us understand why certain foods provide comfort or evoke memories, offering insights into how data can be used to mimic these emotional responses in artificial systems.\n",
      "As we continue to explore these intersections, the potential for innovation grows—whether it's creating personalized nutrition plans based on psychological profiles or developing more intuitive AI systems that understand the nuances of human behavior.\n",
      "\n"
     ]
    }
   ],
   "source": [
    "texts, ids = cluster_chunker_k_preserve(doc, doc_id=\"doc0\", min_samples=3)\n",
    "print(\"K-preserve Chunker\")\n",
    "log_clusters(texts, ids)"
   ]
  },
  {
   "cell_type": "code",
   "execution_count": 46,
   "metadata": {},
   "outputs": [
    {
     "name": "stdout",
     "output_type": "stream",
     "text": [
      "Constrained single-linkage Chunker\n",
      "Cluster ID: 0\n",
      "Text: In the intricate world of human experience, the interplay between food, computer science, and psychology reveals fascinating insights into how we perceive and interact with our environment.\n",
      "The psychology behind our food choices, influenced by cognitive processes like memory and emotion, mirrors the way we approach problem-solving in computer science, where past experiences and emotional states can affect decision-making.\n",
      "In computer science, data drives the development of algorithms that can predict preferences, much like how our psychological history and sensory memories guide our food choices.\n",
      "Similarly, psychology helps us understand why certain foods provide comfort or evoke memories, offering insights into how data can be used to mimic these emotional responses in artificial systems.\n",
      "\n",
      "Cluster ID: 1\n",
      "Text: Just as a carefully prepared meal satisfies our taste buds and nourishes our bodies, well-designed algorithms in computer science cater to the needs of efficiency and performance, ensuring that complex problems are solved with precision.\n",
      "Building on these connections, the relationship between these fields becomes even more profound when we consider the role of data in shaping our experiences.\n",
      "\n",
      "Cluster ID: 2\n",
      "Text: Furthermore, the way we program machines to understand and predict human behavior through artificial intelligence draws a parallel to how our brains process and respond to sensory input, like the taste and aroma of food.\n",
      "This convergence of fields highlights the complexity of human cognition, where the satisfaction of a meal, the efficiency of a program, and the intricacies of mental processes all contribute to our understanding of the world and ourselves.\n",
      "For example, machine learning models analyze vast amounts of data to recommend recipes based on individual tastes, effectively merging the computational with the culinary.\n",
      "As we continue to explore these intersections, the potential for innovation grows—whether it's creating personalized nutrition plans based on psychological profiles or developing more intuitive AI systems that understand the nuances of human behavior.\n",
      "\n"
     ]
    }
   ],
   "source": [
    "texts, ids = cluster_chunker(doc, doc_id=\"doc0\", encoder=get_encoder(\"huggingface\"), max_samples_per_cluster=4)\n",
    "print(\"Constrained single-linkage Chunker\")\n",
    "log_clusters(texts, ids)"
   ]
  },
  {
   "cell_type": "markdown",
   "metadata": {},
   "source": [
    "The problem is now obvious:\n",
    "- k-split managed to meet the number of clusters requirement by grouping most sentences into a huge chunk and leaving other sentences behind.\n",
    "- k-preserve managed to meet the minimal cluster sample size requirement by grouping all sentences into a huge chunk.\n",
    "- constrained single-linkage did an excellent job by forming clusters of similar sample sizes.\n",
    "\n",
    "Let's take a look at the dendrogram for k-split."
   ]
  },
  {
   "cell_type": "code",
   "execution_count": 47,
   "metadata": {},
   "outputs": [
    {
     "data": {
      "image/png": "[encoded data removed]",
      "text/plain": [
       "<Figure size 3200x1800 with 1 Axes>"
      ]
     },
     "metadata": {},
     "output_type": "display_data"
    }
   ],
   "source": [
    "from scipy.cluster.hierarchy import dendrogram\n",
    "import matplotlib.pyplot as plt\n",
    "\n",
    "sents = split_sentences(doc)\n",
    "embs = model.encode(sents)\n",
    "metric = partial(__dist__, n_segments=len(embs), lamda=0)\n",
    "distance_matrix = np.abs(pdist(embs, metric=metric))\n",
    "linkage_matrix = linkage(distance_matrix, method='single')\n",
    "dendrogram(linkage_matrix)\n",
    "plt.rcParams[\"figure.figsize\"] = (32, 18)\n",
    "plt.show()"
   ]
  },
  {
   "cell_type": "markdown",
   "metadata": {},
   "source": [
    "As shown above, k-split will form the clusters AFTER going through the entire linkage matrix (bottom-up), then attempt to meet the required number of clusters backwards (top-down). This leads to sample 5 and sample 4 being left behind, while other sentences getting grouped together.\n",
    "\n",
    "The output below is identical to that from the single-sentence clusters from k-split above."
   ]
  },
  {
   "cell_type": "code",
   "execution_count": 50,
   "metadata": {},
   "outputs": [
    {
     "name": "stdout",
     "output_type": "stream",
     "text": [
      "Sentence 4: This convergence of fields highlights the complexity of human cognition, where the satisfaction of a meal, the efficiency of a program, and the intricacies of mental processes all contribute to our understanding of the world and ourselves.\n",
      "\n",
      "Sentence 5: Building on these connections, the relationship between these fields becomes even more profound when we consider the role of data in shaping our experiences.\n"
     ]
    }
   ],
   "source": [
    "sents = split_sentences(doc)\n",
    "print(f\"Sentence 4: {sents[4]}\")\n",
    "print()\n",
    "print(f\"Sentence 5: {sents[5]}\")"
   ]
  },
  {
   "cell_type": "code",
   "execution_count": 49,
   "metadata": {},
   "outputs": [
    {
     "name": "stdout",
     "output_type": "stream",
     "text": [
      "K-split Chunker\n",
      "Cluster ID: 1\n",
      "Text: In the intricate world of human experience, the interplay between food, computer science, and psychology reveals fascinating insights into how we perceive and interact with our environment.\n",
      "Just as a carefully prepared meal satisfies our taste buds and nourishes our bodies, well-designed algorithms in computer science cater to the needs of efficiency and performance, ensuring that complex problems are solved with precision.\n",
      "The psychology behind our food choices, influenced by cognitive processes like memory and emotion, mirrors the way we approach problem-solving in computer science, where past experiences and emotional states can affect decision-making.\n",
      "Furthermore, the way we program machines to understand and predict human behavior through artificial intelligence draws a parallel to how our brains process and respond to sensory input, like the taste and aroma of food.\n",
      "In computer science, data drives the development of algorithms that can predict preferences, much like how our psychological history and sensory memories guide our food choices.\n",
      "For example, machine learning models analyze vast amounts of data to recommend recipes based on individual tastes, effectively merging the computational with the culinary.\n",
      "Similarly, psychology helps us understand why certain foods provide comfort or evoke memories, offering insights into how data can be used to mimic these emotional responses in artificial systems.\n",
      "As we continue to explore these intersections, the potential for innovation grows—whether it's creating personalized nutrition plans based on psychological profiles or developing more intuitive AI systems that understand the nuances of human behavior.\n",
      "\n",
      "Cluster ID: 2\n",
      "Text: This convergence of fields highlights the complexity of human cognition, where the satisfaction of a meal, the efficiency of a program, and the intricacies of mental processes all contribute to our understanding of the world and ourselves.\n",
      "\n",
      "Cluster ID: 3\n",
      "Text: Building on these connections, the relationship between these fields becomes even more profound when we consider the role of data in shaping our experiences.\n",
      "\n"
     ]
    }
   ],
   "source": [
    "texts, ids = cluster_chunker_k_split(doc, doc_id=\"doc0\", n_clusters=3)\n",
    "print(\"K-split Chunker\")\n",
    "log_clusters(texts, ids)"
   ]
  }
 ],
 "metadata": {
  "kernelspec": {
   "display_name": "sc",
   "language": "python",
   "name": "python3"
  },
  "language_info": {
   "codemirror_mode": {
    "name": "ipython",
    "version": 3
   },
   "file_extension": ".py",
   "mimetype": "text/x-python",
   "name": "python",
   "nbconvert_exporter": "python",
   "pygments_lexer": "ipython3",
   "version": "3.10.14"
  }
 },
 "nbformat": 4,
 "nbformat_minor": 2
}
